{
 "cells": [
  {
   "cell_type": "markdown",
   "id": "9a5f2b53",
   "metadata": {},
   "source": [
    "<h2> Pre-Requisites </h2>"
   ]
  },
  {
   "cell_type": "markdown",
   "id": "3685f6b5",
   "metadata": {},
   "source": [
    "For access to Azure OpenAI resource, fill this <a href=\"https://learn.microsoft.com/en-us/legal/cognitive-services/openai/limited-access.\">form</a>.\n"    
   ]
  },
  {
   "cell_type": "markdown",
   "id": "37704289",
   "metadata": {},
   "source": [
    "<h2>Deploying Azure Models</h2>\n",
    "\n",
    "<h4> Text Similarity Models </h4>\n",
    "<li> text-embedding-ada-002 </li>\n",
    "<li> text-similarity-davinci-001 </li>\n",
    "\n",
    "<h4> Completions </h4>\n",
    "<li> text-davinci-003 </li>\n",
    "<li> gpt-35-turbo (v0301) </li>\n",
    "<li> gpt-35-turbo-16k </li>\n",
    "\n",
    "Create resource in West Europe/South Central US for access to above models. gpt-35-turbo-16k is available in North Central US.\n",
    "\n",
    "For GPT4, fill this <a href=\"https://aka.ms/oai/get-gpt4\">form</a>."
   ]
  },
  {
   "cell_type": "markdown",
   "id": "0980cd0a",
   "metadata": {},
   "source": [
    "<h2> The Code </h2>"
   ]
  },
  {
   "cell_type": "markdown",
   "id": "1b2a73e1",
   "metadata": {},
   "source": [
    "<h4> Embeddings API </h4>\n",
    "<h5> Libraries </h5>\n",
    "<br>\n",
    "<li> Open AI library for Python </li>\n",
    "Provides pre-defined set of classes for API resources that initialize themselves dynamically from API responses which makes it compatible with a wide range of versions of the OpenAI API."
   ]
  },
  {
   "cell_type": "code",
   "execution_count": null,
   "id": "19e11687",
   "metadata": {},
   "outputs": [],
   "source": [
    "pip install openai"
   ]
  },
  {
   "cell_type": "markdown",
   "id": "6e6002da",
   "metadata": {},
   "source": [
    "<br>\n",
    "<li> NumPy </li>\n",
    "Provides a large collection of high-level mathematical functions to operate on multi-dimensional arrays and matrices."
   ]
  },
  {
   "cell_type": "code",
   "execution_count": null,
   "id": "b2e53797",
   "metadata": {},
   "outputs": [],
   "source": [
    "pip install numpy"
   ]
  },
  {
   "cell_type": "markdown",
   "id": "6045b765",
   "metadata": {},
   "source": [
    "<br>\n",
    "<li> Pandas </li>\n",
    "Provides utils for data analysis as frames/tables."
   ]
  },
  {
   "cell_type": "code",
   "execution_count": null,
   "id": "c1c48ad5",
   "metadata": {},
   "outputs": [],
   "source": [
    "pip install pandas"
   ]
  },
  {
   "cell_type": "markdown",
   "id": "99086b50",
   "metadata": {},
   "source": [
    "<h4> Setup OpenAI Configs </h4>"
   ]
  },
  {
   "cell_type": "code",
   "execution_count": null,
   "id": "ea47a29c",
   "metadata": {},
   "outputs": [],
   "source": [
    "import openai\n",
    "openai.api_type = \"azure\"\n",
    "openai.api_key = \"\"\n",
    "openai.api_base = \"\"\n",
    "openai.api_version = \"\"\n"
   ]
  },
  {
   "cell_type": "markdown",
   "id": "74e36e7a",
   "metadata": {},
   "source": [
    "<h4> The Embedding API Call </h4>"
   ]
  },
  {
   "cell_type": "code",
   "execution_count": null,
   "id": "7b5c4fbd",
   "metadata": {},
   "outputs": [],
   "source": [
    "def createEmbeddings(text):\n",
    "    response = openai.Embedding.create(\n",
    "        input=text,\n",
    "        engine= \"text-embedding-ada-002\" #\"text-similarity-davinci-001\"\n",
    "    )\n",
    "    return response['data'][0]['embedding']"
   ]
  },
  {
   "cell_type": "code",
   "execution_count": null,
   "id": "b9a9264c",
   "metadata": {},
   "outputs": [],
   "source": [
    "embeddingVector = createEmbeddings(\"Harry Potter and the sorceror's stone\")\n",
    "print (embeddingVector)"
   ]
  },
  {
   "cell_type": "code",
   "execution_count": null,
   "id": "2e99138b",
   "metadata": {},
   "outputs": [],
   "source": [
    "print (len(embeddingVector))"
   ]
  },
  {
   "cell_type": "code",
   "execution_count": null,
   "id": "3f88f674",
   "metadata": {},
   "outputs": [],
   "source": [
    "pip install plotly"
   ]
  },
  {
   "cell_type": "code",
   "execution_count": null,
   "id": "caee0b40",
   "metadata": {},
   "outputs": [],
   "source": [
    "from openai.embeddings_utils import cosine_similarity\n",
    "import time\n",
    "start_time = time.time()\n",
    "print (cosine_similarity(createEmbeddings(\"Harry Potter\"), embeddingVector))\n",
    "print(\"--- %s seconds ---\" % (time.time() - start_time))"
   ]
  },
  {
   "cell_type": "code",
   "execution_count": null,
   "id": "53583a8a",
   "metadata": {
    "scrolled": true
   },
   "outputs": [],
   "source": [
    "from numpy import dot\n",
    "from numpy.linalg import norm\n",
    "def findCosineSimilarity(a,b):\n",
    "    cos_sim = dot(a, b)/(norm(a)*norm(b))\n",
    "    return cos_sim\n",
    "\n",
    "start_time = time.time()\n",
    "print(findCosineSimilarity(createEmbeddings(\"Harry Potter\"), embeddingVector))\n",
    "print(\"--- %s seconds ---\" % (time.time() - start_time))"
   ]
  },
  {
   "cell_type": "markdown",
   "id": "ed501b5b",
   "metadata": {},
   "source": [
    "<h4> Applications </h4>"
   ]
  },
  {
   "cell_type": "markdown",
   "id": "bdb21885",
   "metadata": {},
   "source": [
    "- Search (where results are ranked by relevance to a query string)\n",
    "- Clustering (where text strings are grouped by similarity)\n",
    "- Recommendations (where items with related text strings are recommended)\n",
    "- Anomaly detection (where outliers with little relatedness are identified)\n",
    "- Diversity measurement (where similarity distributions are analyzed)\n",
    "- Classification (where text strings are classified by their most similar label)"
   ]
  },
  {
   "cell_type": "code",
   "execution_count": null,
   "id": "b84e90c0",
   "metadata": {},
   "outputs": [],
   "source": [
    "reviews = [\n",
    "    {\"text\": \"Kettle Chips flavors can be hit or miss.  Some of their flavors are terrible.  But this is very simple and delicious.  Probably one of their best flavors.<br /><br />Pros: Thick, crunchy potato chips with light salt that doesn't compromise on taste, eco-friendly business that isn't just giving us lip service<br /><br />Cons: The occasional burnt chip and the bag is a pain to open.  They have a tab that you can pull down but most of the time I end up tearing down the entire side of the bag. Use scissors instead.\"},\n",
    "    {\"text\": \"These chips are the only ones I found to be tasty and healthy. They have fewer fat calories plus higher fiber for those who want good taste and nutrition--the perfect blend!\"},\n",
    "    {\"text\": \"This cinnamon cake loaf has a wonderful natural flavor.  It's moist and tender and a great little sweet treat when you want something that isn't terribly bad for your diet.  It's delicious!\"},\n",
    "    {\"text\": \"Recently purchased this cereal assuming it would contain nothing but healthy ingredients, then I read the label and discovered it contains partially hydrogenated soybean oil and high fructose corn syrup.\"},\n",
    "    {\"text\": \"Great taffy at a great price.  There was a wide assortment of yummy taffy.  Delivery was very quick.  If your a taffy lover, this is a deal.\"},\n",
    "    {\"text\": \"great product, poor delivery:  The coffee is excellent and I am a repeat buyer.  Problem this time was with the UPS delivery.  They left the box in front of my garage door in the middle of the driveway\"}\n",
    "]"
   ]
  },
  {
   "cell_type": "code",
   "execution_count": null,
   "id": "e03910a0",
   "metadata": {},
   "outputs": [],
   "source": [
    "from openai.embeddings_utils import get_embedding\n",
    "\n",
    "for review in reviews:\n",
    "    review[\"embeddings\"] = get_embedding(\n",
    "        review[\"text\"],\n",
    "        engine=\"text-embedding-ada-002\"\n",
    "    )\n",
    "print (reviews[0])"
   ]
  },
  {
   "cell_type": "markdown",
   "id": "73a5e659",
   "metadata": {},
   "source": [
    "<h4> Let's search for chips flavours</h4>"
   ]
  },
  {
   "cell_type": "code",
   "execution_count": null,
   "id": "96f76963",
   "metadata": {},
   "outputs": [],
   "source": [
    "search_key_embeddings = createEmbeddings(\"Chips flavours\")\n",
    "for review in reviews:\n",
    "    review[\"cosineSim\"] = findCosineSimilarity(review[\"embeddings\"], search_key_embeddings)\n",
    "    print (review[\"cosineSim\"])"
   ]
  },
  {
   "cell_type": "code",
   "execution_count": null,
   "id": "658fa6b7",
   "metadata": {},
   "outputs": [],
   "source": [
    "from operator import itemgetter\n",
    "reviews.sort(key=itemgetter('cosineSim'), reverse=True)\n",
    "    "
   ]
  },
  {
   "cell_type": "code",
   "execution_count": null,
   "id": "aee3857d",
   "metadata": {},
   "outputs": [],
   "source": [
    "reviews[:2]"
   ]
  },
  {
   "cell_type": "markdown",
   "id": "5ffacb7d",
   "metadata": {},
   "source": [
    "<h2>Similarity for recommendations </h2>"
   ]
  },
  {
   "cell_type": "code",
   "execution_count": null,
   "id": "6a38eaa6",
   "metadata": {},
   "outputs": [],
   "source": [
    "a = createEmbeddings(\"an apple a day keeps the doctor away\")\n",
    "b = createEmbeddings(\"orange juice is rich in VitaminC\")\n",
    "c = createEmbeddings(\"Niki Lauda is the OG F1 champ\")\n",
    "d = createEmbeddings(\"Sebastian Vettel drove for Aston Martin before retiring from Formula One at the end of the 2022 season\")\n",
    "\n",
    "print (findCosineSimilarity(a,b))\n",
    "print (findCosineSimilarity(c,b))\n",
    "print (findCosineSimilarity(a,c))\n",
    "print (findCosineSimilarity(d,c))\n"
   ]
  },
  {
   "cell_type": "code",
   "execution_count": null,
   "id": "bb31f51b",
   "metadata": {},
   "outputs": [],
   "source": [
    "resume = createEmbeddings(\"react, nodejs\")\n",
    "\n",
    "jd1 = createEmbeddings(\"python, r, responsible AI, semantic kernel\")\n",
    "jd2 = createEmbeddings(\"account management, power bi, jira\")\n",
    "jd3 = createEmbeddings(\"react, angular, materialui\")\n",
    "jd4 = createEmbeddings(\"bootstrap, angular, fluent, flutter\")\n",
    "jd5 = createEmbeddings(\"sql, dbms, mongodb, vectordb\")\n",
    "\n",
    "print (findCosineSimilarity(resume, jd1))\n",
    "print (findCosineSimilarity(resume, jd2))\n",
    "print (findCosineSimilarity(resume, jd3))\n",
    "print (findCosineSimilarity(resume, jd4))\n",
    "print (findCosineSimilarity(resume, jd5))"
   ]
  },
  {
   "cell_type": "markdown",
   "id": "8d17c161",
   "metadata": {},
   "source": [
    "<h2> Completions API </h2>"
   ]
  },
  {
   "cell_type": "code",
   "execution_count": null,
   "id": "d43fe28a",
   "metadata": {},
   "outputs": [],
   "source": [
    "response = openai.Completion.create(\n",
    "  engine=\"trialDavinci\",\n",
    "  prompt=\"\",\n",
    "  temperature=1,\n",
    "  max_tokens=100,\n",
    "  top_p=0.5,\n",
    "  frequency_penalty=0,\n",
    "  presence_penalty=0,\n",
    "  best_of=1,\n",
    "  stop=None)\n",
    "\n"
   ]
  }
 ],
 "metadata": {
  "kernelspec": {
   "display_name": "Python 3 (ipykernel)",
   "language": "python",
   "name": "python3"
  },
  "language_info": {
   "codemirror_mode": {
    "name": "ipython",
    "version": 3
   },
   "file_extension": ".py",
   "mimetype": "text/x-python",
   "name": "python",
   "nbconvert_exporter": "python",
   "pygments_lexer": "ipython3",
   "version": "3.11.2"
  }
 },
 "nbformat": 4,
 "nbformat_minor": 5
}
